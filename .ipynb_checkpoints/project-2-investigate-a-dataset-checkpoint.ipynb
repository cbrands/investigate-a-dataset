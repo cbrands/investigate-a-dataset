{
 "cells": [
  {
   "cell_type": "markdown",
   "metadata": {},
   "source": [
    "# Investigate a dataset project\n",
    "## Introduction\n",
    "This project is my implementation of the \"Investigate a dataset\" project. This is the second project of the Data Analyst nanodegree program of Udacity. The dataset I selected is the \"No-show appointments dataset\".\n"
   ]
  },
  {
   "cell_type": "code",
   "execution_count": 347,
   "metadata": {},
   "outputs": [
    {
     "data": {
      "text/html": [
       "<div>\n",
       "<style>\n",
       "    .dataframe thead tr:only-child th {\n",
       "        text-align: right;\n",
       "    }\n",
       "\n",
       "    .dataframe thead th {\n",
       "        text-align: left;\n",
       "    }\n",
       "\n",
       "    .dataframe tbody tr th {\n",
       "        vertical-align: top;\n",
       "    }\n",
       "</style>\n",
       "<table border=\"1\" class=\"dataframe\">\n",
       "  <thead>\n",
       "    <tr style=\"text-align: right;\">\n",
       "      <th></th>\n",
       "      <th>PatientId</th>\n",
       "      <th>AppointmentID</th>\n",
       "      <th>Gender</th>\n",
       "      <th>ScheduledDay</th>\n",
       "      <th>AppointmentDay</th>\n",
       "      <th>Age</th>\n",
       "      <th>Neighbourhood</th>\n",
       "      <th>Scholarship</th>\n",
       "      <th>Hipertension</th>\n",
       "      <th>Diabetes</th>\n",
       "      <th>Alcoholism</th>\n",
       "      <th>Handcap</th>\n",
       "      <th>SMS_received</th>\n",
       "      <th>No-show</th>\n",
       "    </tr>\n",
       "  </thead>\n",
       "  <tbody>\n",
       "    <tr>\n",
       "      <th>0</th>\n",
       "      <td>2.987250e+13</td>\n",
       "      <td>5642903</td>\n",
       "      <td>F</td>\n",
       "      <td>2016-04-29T18:38:08Z</td>\n",
       "      <td>2016-04-29T00:00:00Z</td>\n",
       "      <td>62</td>\n",
       "      <td>JARDIM DA PENHA</td>\n",
       "      <td>0</td>\n",
       "      <td>1</td>\n",
       "      <td>0</td>\n",
       "      <td>0</td>\n",
       "      <td>0</td>\n",
       "      <td>0</td>\n",
       "      <td>No</td>\n",
       "    </tr>\n",
       "    <tr>\n",
       "      <th>1</th>\n",
       "      <td>5.589978e+14</td>\n",
       "      <td>5642503</td>\n",
       "      <td>M</td>\n",
       "      <td>2016-04-29T16:08:27Z</td>\n",
       "      <td>2016-04-29T00:00:00Z</td>\n",
       "      <td>56</td>\n",
       "      <td>JARDIM DA PENHA</td>\n",
       "      <td>0</td>\n",
       "      <td>0</td>\n",
       "      <td>0</td>\n",
       "      <td>0</td>\n",
       "      <td>0</td>\n",
       "      <td>0</td>\n",
       "      <td>No</td>\n",
       "    </tr>\n",
       "    <tr>\n",
       "      <th>2</th>\n",
       "      <td>4.262962e+12</td>\n",
       "      <td>5642549</td>\n",
       "      <td>F</td>\n",
       "      <td>2016-04-29T16:19:04Z</td>\n",
       "      <td>2016-04-29T00:00:00Z</td>\n",
       "      <td>62</td>\n",
       "      <td>MATA DA PRAIA</td>\n",
       "      <td>0</td>\n",
       "      <td>0</td>\n",
       "      <td>0</td>\n",
       "      <td>0</td>\n",
       "      <td>0</td>\n",
       "      <td>0</td>\n",
       "      <td>No</td>\n",
       "    </tr>\n",
       "    <tr>\n",
       "      <th>3</th>\n",
       "      <td>8.679512e+11</td>\n",
       "      <td>5642828</td>\n",
       "      <td>F</td>\n",
       "      <td>2016-04-29T17:29:31Z</td>\n",
       "      <td>2016-04-29T00:00:00Z</td>\n",
       "      <td>8</td>\n",
       "      <td>PONTAL DE CAMBURI</td>\n",
       "      <td>0</td>\n",
       "      <td>0</td>\n",
       "      <td>0</td>\n",
       "      <td>0</td>\n",
       "      <td>0</td>\n",
       "      <td>0</td>\n",
       "      <td>No</td>\n",
       "    </tr>\n",
       "    <tr>\n",
       "      <th>4</th>\n",
       "      <td>8.841186e+12</td>\n",
       "      <td>5642494</td>\n",
       "      <td>F</td>\n",
       "      <td>2016-04-29T16:07:23Z</td>\n",
       "      <td>2016-04-29T00:00:00Z</td>\n",
       "      <td>56</td>\n",
       "      <td>JARDIM DA PENHA</td>\n",
       "      <td>0</td>\n",
       "      <td>1</td>\n",
       "      <td>1</td>\n",
       "      <td>0</td>\n",
       "      <td>0</td>\n",
       "      <td>0</td>\n",
       "      <td>No</td>\n",
       "    </tr>\n",
       "  </tbody>\n",
       "</table>\n",
       "</div>"
      ],
      "text/plain": [
       "      PatientId  AppointmentID Gender          ScheduledDay  \\\n",
       "0  2.987250e+13        5642903      F  2016-04-29T18:38:08Z   \n",
       "1  5.589978e+14        5642503      M  2016-04-29T16:08:27Z   \n",
       "2  4.262962e+12        5642549      F  2016-04-29T16:19:04Z   \n",
       "3  8.679512e+11        5642828      F  2016-04-29T17:29:31Z   \n",
       "4  8.841186e+12        5642494      F  2016-04-29T16:07:23Z   \n",
       "\n",
       "         AppointmentDay  Age      Neighbourhood  Scholarship  Hipertension  \\\n",
       "0  2016-04-29T00:00:00Z   62    JARDIM DA PENHA            0             1   \n",
       "1  2016-04-29T00:00:00Z   56    JARDIM DA PENHA            0             0   \n",
       "2  2016-04-29T00:00:00Z   62      MATA DA PRAIA            0             0   \n",
       "3  2016-04-29T00:00:00Z    8  PONTAL DE CAMBURI            0             0   \n",
       "4  2016-04-29T00:00:00Z   56    JARDIM DA PENHA            0             1   \n",
       "\n",
       "   Diabetes  Alcoholism  Handcap  SMS_received No-show  \n",
       "0         0           0        0             0      No  \n",
       "1         0           0        0             0      No  \n",
       "2         0           0        0             0      No  \n",
       "3         0           0        0             0      No  \n",
       "4         1           0        0             0      No  "
      ]
     },
     "execution_count": 347,
     "metadata": {},
     "output_type": "execute_result"
    }
   ],
   "source": [
    "import pandas as pd\n",
    "df = pd.read_csv('noshowappointments-kagglev2-may-2016.csv')\n",
    "df.head()"
   ]
  },
  {
   "cell_type": "markdown",
   "metadata": {},
   "source": [
    "## A first look at the quality of the data\n",
    "First we will take a look at the quality of the data using the same steps as in \"Lesson 3: The data analysis proces\"."
   ]
  },
  {
   "cell_type": "code",
   "execution_count": 348,
   "metadata": {},
   "outputs": [
    {
     "data": {
      "text/plain": [
       "(110527, 14)"
      ]
     },
     "execution_count": 348,
     "metadata": {},
     "output_type": "execute_result"
    }
   ],
   "source": [
    "# this returns a tuple of the dimensions of the dataframe\n",
    "df.shape"
   ]
  },
  {
   "cell_type": "code",
   "execution_count": 349,
   "metadata": {},
   "outputs": [
    {
     "data": {
      "text/plain": [
       "PatientId         float64\n",
       "AppointmentID       int64\n",
       "Gender             object\n",
       "ScheduledDay       object\n",
       "AppointmentDay     object\n",
       "Age                 int64\n",
       "Neighbourhood      object\n",
       "Scholarship         int64\n",
       "Hipertension        int64\n",
       "Diabetes            int64\n",
       "Alcoholism          int64\n",
       "Handcap             int64\n",
       "SMS_received        int64\n",
       "No-show            object\n",
       "dtype: object"
      ]
     },
     "execution_count": 349,
     "metadata": {},
     "output_type": "execute_result"
    }
   ],
   "source": [
    "# this returns the datatypes of the columns\n",
    "df.dtypes"
   ]
  },
  {
   "cell_type": "code",
   "execution_count": 350,
   "metadata": {},
   "outputs": [
    {
     "name": "stdout",
     "output_type": "stream",
     "text": [
      "<class 'pandas.core.frame.DataFrame'>\n",
      "RangeIndex: 110527 entries, 0 to 110526\n",
      "Data columns (total 14 columns):\n",
      "PatientId         110527 non-null float64\n",
      "AppointmentID     110527 non-null int64\n",
      "Gender            110527 non-null object\n",
      "ScheduledDay      110527 non-null object\n",
      "AppointmentDay    110527 non-null object\n",
      "Age               110527 non-null int64\n",
      "Neighbourhood     110527 non-null object\n",
      "Scholarship       110527 non-null int64\n",
      "Hipertension      110527 non-null int64\n",
      "Diabetes          110527 non-null int64\n",
      "Alcoholism        110527 non-null int64\n",
      "Handcap           110527 non-null int64\n",
      "SMS_received      110527 non-null int64\n",
      "No-show           110527 non-null object\n",
      "dtypes: float64(1), int64(8), object(5)\n",
      "memory usage: 11.8+ MB\n"
     ]
    }
   ],
   "source": [
    "# this displays a concise summary of the dataframe,\n",
    "# including the number of non-null values in each column\n",
    "df.info()"
   ]
  },
  {
   "cell_type": "markdown",
   "metadata": {},
   "source": [
    "All columns have 110527 non-null values which is equal to the total number of rows so we have no nulls anywhere. "
   ]
  },
  {
   "cell_type": "code",
   "execution_count": 351,
   "metadata": {},
   "outputs": [
    {
     "data": {
      "text/plain": [
       "PatientId          62299\n",
       "AppointmentID     110527\n",
       "Gender                 2\n",
       "ScheduledDay      103549\n",
       "AppointmentDay        27\n",
       "Age                  104\n",
       "Neighbourhood         81\n",
       "Scholarship            2\n",
       "Hipertension           2\n",
       "Diabetes               2\n",
       "Alcoholism             2\n",
       "Handcap                5\n",
       "SMS_received           2\n",
       "No-show                2\n",
       "dtype: int64"
      ]
     },
     "execution_count": 351,
     "metadata": {},
     "output_type": "execute_result"
    }
   ],
   "source": [
    "# this returns the number of unique values in each column\n",
    "df.nunique()"
   ]
  },
  {
   "cell_type": "markdown",
   "metadata": {},
   "source": [
    "AppontmentID has 110527 unique values which is equal to the number of rows so we have no duplicated rows. Furthermore we see that Gender has two unique values ('F' and 'M'), No-show has two unique values ('Yes' and 'No'). There are 81 differend Neighborhoods and 5 handicap values (0 to 4). Scholarship, hipertension, diabetes, alcoholism, and SMS_received all have two possible values 0 and 1. There are 104 unique age values. That seems like a lot  "
   ]
  },
  {
   "cell_type": "code",
   "execution_count": 352,
   "metadata": {},
   "outputs": [
    {
     "data": {
      "text/plain": [
       "array([ 62,  56,   8,  76,  23,  39,  21,  19,  30,  29,  22,  28,  54,\n",
       "        15,  50,  40,  46,   4,  13,  65,  45,  51,  32,  12,  61,  38,\n",
       "        79,  18,  63,  64,  85,  59,  55,  71,  49,  78,  31,  58,  27,\n",
       "         6,   2,  11,   7,   0,   3,   1,  69,  68,  60,  67,  36,  10,\n",
       "        35,  20,  26,  34,  33,  16,  42,   5,  47,  17,  41,  44,  37,\n",
       "        24,  66,  77,  81,  70,  53,  75,  73,  52,  74,  43,  89,  57,\n",
       "        14,   9,  48,  83,  72,  25,  80,  87,  88,  84,  82,  90,  94,\n",
       "        86,  91,  98,  92,  96,  93,  95,  97, 102, 115, 100,  99,  -1])"
      ]
     },
     "execution_count": 352,
     "metadata": {},
     "output_type": "execute_result"
    }
   ],
   "source": [
    "#List unique values in the df['name'] column\n",
    "df.Age.unique()"
   ]
  },
  {
   "cell_type": "markdown",
   "metadata": {},
   "source": [
    "There are some old people here, up to 115 years. There is also the value -1. A fetus? Age unknown? This is a nonsensical value."
   ]
  },
  {
   "cell_type": "code",
   "execution_count": 353,
   "metadata": {},
   "outputs": [
    {
     "data": {
      "text/plain": [
       "(110526, 14)"
      ]
     },
     "execution_count": 353,
     "metadata": {},
     "output_type": "execute_result"
    }
   ],
   "source": [
    "df = df.drop(df.index[df.Age == -1])\n",
    "df.shape"
   ]
  },
  {
   "cell_type": "markdown",
   "metadata": {},
   "source": [
    "One row with Age == -1 is removed. Next are there really 81 differend neighborhoods?"
   ]
  },
  {
   "cell_type": "code",
   "execution_count": 354,
   "metadata": {},
   "outputs": [
    {
     "data": {
      "text/plain": [
       "['AEROPORTO',\n",
       " 'ANDORINHAS',\n",
       " 'ANTÔNIO HONÓRIO',\n",
       " 'ARIOVALDO FAVALESSA',\n",
       " 'BARRO VERMELHO',\n",
       " 'BELA VISTA',\n",
       " 'BENTO FERREIRA',\n",
       " 'BOA VISTA',\n",
       " 'BONFIM',\n",
       " 'CARATOÍRA',\n",
       " 'CENTRO',\n",
       " 'COMDUSA',\n",
       " 'CONQUISTA',\n",
       " 'CONSOLAÇÃO',\n",
       " 'CRUZAMENTO',\n",
       " 'DA PENHA',\n",
       " 'DE LOURDES',\n",
       " 'DO CABRAL',\n",
       " 'DO MOSCOSO',\n",
       " 'DO QUADRO',\n",
       " 'ENSEADA DO SUÁ',\n",
       " 'ESTRELINHA',\n",
       " 'FONTE GRANDE',\n",
       " 'FORTE SÃO JOÃO',\n",
       " 'FRADINHOS',\n",
       " 'GOIABEIRAS',\n",
       " 'GRANDE VITÓRIA',\n",
       " 'GURIGICA',\n",
       " 'HORTO',\n",
       " 'ILHA DAS CAIEIRAS',\n",
       " 'ILHA DE SANTA MARIA',\n",
       " 'ILHA DO BOI',\n",
       " 'ILHA DO FRADE',\n",
       " 'ILHA DO PRÍNCIPE',\n",
       " 'ILHAS OCEÂNICAS DE TRINDADE',\n",
       " 'INHANGUETÁ',\n",
       " 'ITARARÉ',\n",
       " 'JABOUR',\n",
       " 'JARDIM CAMBURI',\n",
       " 'JARDIM DA PENHA',\n",
       " 'JESUS DE NAZARETH',\n",
       " 'JOANA D´ARC',\n",
       " 'JUCUTUQUARA',\n",
       " 'MARIA ORTIZ',\n",
       " 'MARUÍPE',\n",
       " 'MATA DA PRAIA',\n",
       " 'MONTE BELO',\n",
       " 'MORADA DE CAMBURI',\n",
       " 'MÁRIO CYPRESTE',\n",
       " 'NAZARETH',\n",
       " 'NOVA PALESTINA',\n",
       " 'PARQUE INDUSTRIAL',\n",
       " 'PARQUE MOSCOSO',\n",
       " 'PIEDADE',\n",
       " 'PONTAL DE CAMBURI',\n",
       " 'PRAIA DO CANTO',\n",
       " 'PRAIA DO SUÁ',\n",
       " 'REDENÇÃO',\n",
       " 'REPÚBLICA',\n",
       " 'RESISTÊNCIA',\n",
       " 'ROMÃO',\n",
       " 'SANTA CECÍLIA',\n",
       " 'SANTA CLARA',\n",
       " 'SANTA HELENA',\n",
       " 'SANTA LUÍZA',\n",
       " 'SANTA LÚCIA',\n",
       " 'SANTA MARTHA',\n",
       " 'SANTA TEREZA',\n",
       " 'SANTO ANDRÉ',\n",
       " 'SANTO ANTÔNIO',\n",
       " 'SANTOS DUMONT',\n",
       " 'SANTOS REIS',\n",
       " 'SEGURANÇA DO LAR',\n",
       " 'SOLON BORGES',\n",
       " 'SÃO BENEDITO',\n",
       " 'SÃO CRISTÓVÃO',\n",
       " 'SÃO JOSÉ',\n",
       " 'SÃO PEDRO',\n",
       " 'TABUAZEIRO',\n",
       " 'UNIVERSITÁRIO',\n",
       " 'VILA RUBIM']"
      ]
     },
     "execution_count": 354,
     "metadata": {},
     "output_type": "execute_result"
    }
   ],
   "source": [
    "sorted(df.Neighbourhood.unique())"
   ]
  },
  {
   "cell_type": "markdown",
   "metadata": {},
   "source": [
    "Apparently there are indeed 81 differend neighbourhoods. \n",
    "## First question. What are the most important factors in determing the likelyhood of a no-show?"
   ]
  },
  {
   "cell_type": "code",
   "execution_count": 355,
   "metadata": {},
   "outputs": [
    {
     "name": "stdout",
     "output_type": "stream",
     "text": [
      "Total =  110526\n",
      "General no-show =  20 %\n"
     ]
    }
   ],
   "source": [
    "total = len(df.index)\n",
    "print('Total = ', total)\n",
    "total_noshow = (df['No-show'] == 'Yes').sum()\n",
    "print('General no-show = ', int((total_noshow / total) * 100), '%')"
   ]
  },
  {
   "cell_type": "code",
   "execution_count": 356,
   "metadata": {},
   "outputs": [
    {
     "name": "stdout",
     "output_type": "stream",
     "text": [
      "35 % of the appointments is for a man\n",
      "64 % of the appointments is for a woman\n",
      "19 % of all appointments with a man is a no show\n",
      "20 % of all appointments with a woman is a no show\n"
     ]
    }
   ],
   "source": [
    "#Gender\n",
    "total_male = (df['Gender'] == 'M').sum()\n",
    "total_female = (df['Gender'] == 'F').sum()\n",
    "print(int((total_male / total) * 100), '% of the appointments is for a man')\n",
    "print(int((total_female / total) * 100), '% of the appointments is for a woman')\n",
    "male_noshow = len((df[(df['Gender'] == 'M') & (df['No-show'] == 'Yes')]))\n",
    "female_noshow = len((df[(df['Gender'] == 'F') & (df['No-show'] == 'Yes')]))\n",
    "print(int((male_noshow / total_male) * 100), '% of all appointments with a man is a no show')\n",
    "print(int((female_noshow / total_female) * 100), '% of all appointments with a woman is a no show')\n",
    "\n"
   ]
  },
  {
   "cell_type": "code",
   "execution_count": 357,
   "metadata": {},
   "outputs": [
    {
     "name": "stdout",
     "output_type": "stream",
     "text": [
      "17 % of all appointments with someone with hipertension is a no show\n",
      "18 % of all appointments with someone with diabetes is a no show\n",
      "20 % of all appointments with someone with alcoholism is a no show\n"
     ]
    }
   ],
   "source": [
    "#hipertension diabetes alcoholism\n",
    "total_hipertension = (df['Hipertension'] == 1).sum()\n",
    "hipertension_noshow = len((df[(df['Hipertension'] == 1) & (df['No-show'] == 'Yes')]))\n",
    "print(int((hipertension_noshow / total_hipertension) * 100), '% of all appointments with someone with hipertension is a no show')\n",
    "\n",
    "total_diabetes = (df['Diabetes'] == 1).sum()\n",
    "diabetes_noshow = len((df[(df['Diabetes'] == 1) & (df['No-show'] == 'Yes')]))\n",
    "print(int((diabetes_noshow / total_diabetes) * 100), '% of all appointments with someone with diabetes is a no show')\n",
    "\n",
    "total_alcoholism = (df['Alcoholism'] == 1).sum()\n",
    "alcoholism_noshow = len((df[(df['Alcoholism'] == 1) & (df['No-show'] == 'Yes')]))\n",
    "print(int((alcoholism_noshow / total_alcoholism) * 100), '% of all appointments with someone with alcoholism is a no show')\n"
   ]
  },
  {
   "cell_type": "code",
   "execution_count": 358,
   "metadata": {},
   "outputs": [
    {
     "name": "stdout",
     "output_type": "stream",
     "text": [
      "27 % of all appointments with someone who received an SMS is a no show\n"
     ]
    }
   ],
   "source": [
    "#SMS\n",
    "total_sms = (df['SMS_received'] == 1).sum()\n",
    "sms_noshow = len((df[(df['SMS_received'] == 1) & (df['No-show'] == 'Yes')]))\n",
    "print(int((sms_noshow / total_sms) * 100), '% of all appointments with someone who received an SMS is a no show')\n"
   ]
  },
  {
   "cell_type": "code",
   "execution_count": 359,
   "metadata": {},
   "outputs": [
    {
     "name": "stdout",
     "output_type": "stream",
     "text": [
      "0 4 17\n",
      "5 9 21\n",
      "10 14 24\n",
      "15 19 25\n",
      "20 24 25\n",
      "25 29 24\n",
      "30 34 22\n",
      "35 39 20\n",
      "40 44 22\n",
      "45 49 18\n",
      "50 54 18\n",
      "55 59 17\n",
      "60 64 15\n",
      "65 69 15\n",
      "70 74 14\n",
      "75 79 15\n",
      "80 84 16\n",
      "85 89 15\n",
      "90 94 21\n",
      "95 99 17\n",
      "100 104 0\n",
      "105 109 0\n",
      "110 114 0\n",
      "115 119 60\n"
     ]
    }
   ],
   "source": [
    "#age\n",
    "%matplotlib inline\n",
    "import numpy as np\n",
    "\n",
    "def calculate_percent_for_age_group(min_value, max_value):\n",
    "    total_age = len((df[(df['Age'] >= min_value) & (df['Age'] < max_value)]))\n",
    "    noshow_age = len((df[(df['Age'] >= min_value) & (df['Age'] < max_value) & (df['No-show'] == 'Yes')]))\n",
    "    if total_age == 0:\n",
    "        return 0\n",
    "    else:\n",
    "        return int((noshow_age / total_age) * 100)\n",
    "\n",
    "age_values_min = np.arange(0, 120, 5)\n",
    "\n",
    "for x in np.nditer(age_values_min):\n",
    "    print(x, x + 4, calculate_percent_for_age_group(x, x + 4))"
   ]
  },
  {
   "cell_type": "code",
   "execution_count": 360,
   "metadata": {
    "collapsed": true
   },
   "outputs": [],
   "source": [
    "#neighbourhood\n",
    "def calculate_percent_noshow_for_neighbourhood(neighbourhood):\n",
    "    total_neighbourhood = len(df['Neighbourhood'] == neighbourhood)\n",
    "    noshow_neighbourhood = len((df[(df['Neighbourhood'] == neighbourhood) & (df['No-show'] == 'Yes')]))\n",
    "    return int((noshow_neighbourhood / total_neighbourhood) * 100)\n"
   ]
  },
  {
   "cell_type": "code",
   "execution_count": 361,
   "metadata": {},
   "outputs": [
    {
     "data": {
      "text/html": [
       "<div>\n",
       "<style>\n",
       "    .dataframe thead tr:only-child th {\n",
       "        text-align: right;\n",
       "    }\n",
       "\n",
       "    .dataframe thead th {\n",
       "        text-align: left;\n",
       "    }\n",
       "\n",
       "    .dataframe tbody tr th {\n",
       "        vertical-align: top;\n",
       "    }\n",
       "</style>\n",
       "<table border=\"1\" class=\"dataframe\">\n",
       "  <thead>\n",
       "    <tr style=\"text-align: right;\">\n",
       "      <th></th>\n",
       "      <th>PatientId</th>\n",
       "      <th>AppointmentID</th>\n",
       "      <th>Gender</th>\n",
       "      <th>ScheduledDay</th>\n",
       "      <th>AppointmentDay</th>\n",
       "      <th>Age</th>\n",
       "      <th>Neighbourhood</th>\n",
       "      <th>Scholarship</th>\n",
       "      <th>Hipertension</th>\n",
       "      <th>Diabetes</th>\n",
       "      <th>Alcoholism</th>\n",
       "      <th>Handcap</th>\n",
       "      <th>SMS_received</th>\n",
       "      <th>No-show</th>\n",
       "      <th>DaysBetween</th>\n",
       "      <th>day_of_week</th>\n",
       "    </tr>\n",
       "  </thead>\n",
       "  <tbody>\n",
       "    <tr>\n",
       "      <th>0</th>\n",
       "      <td>2.987250e+13</td>\n",
       "      <td>5642903</td>\n",
       "      <td>F</td>\n",
       "      <td>2016-04-29</td>\n",
       "      <td>2016-04-29</td>\n",
       "      <td>62</td>\n",
       "      <td>JARDIM DA PENHA</td>\n",
       "      <td>0</td>\n",
       "      <td>1</td>\n",
       "      <td>0</td>\n",
       "      <td>0</td>\n",
       "      <td>0</td>\n",
       "      <td>0</td>\n",
       "      <td>No</td>\n",
       "      <td>0</td>\n",
       "      <td>Friday</td>\n",
       "    </tr>\n",
       "    <tr>\n",
       "      <th>1</th>\n",
       "      <td>5.589978e+14</td>\n",
       "      <td>5642503</td>\n",
       "      <td>M</td>\n",
       "      <td>2016-04-29</td>\n",
       "      <td>2016-04-29</td>\n",
       "      <td>56</td>\n",
       "      <td>JARDIM DA PENHA</td>\n",
       "      <td>0</td>\n",
       "      <td>0</td>\n",
       "      <td>0</td>\n",
       "      <td>0</td>\n",
       "      <td>0</td>\n",
       "      <td>0</td>\n",
       "      <td>No</td>\n",
       "      <td>0</td>\n",
       "      <td>Friday</td>\n",
       "    </tr>\n",
       "    <tr>\n",
       "      <th>2</th>\n",
       "      <td>4.262962e+12</td>\n",
       "      <td>5642549</td>\n",
       "      <td>F</td>\n",
       "      <td>2016-04-29</td>\n",
       "      <td>2016-04-29</td>\n",
       "      <td>62</td>\n",
       "      <td>MATA DA PRAIA</td>\n",
       "      <td>0</td>\n",
       "      <td>0</td>\n",
       "      <td>0</td>\n",
       "      <td>0</td>\n",
       "      <td>0</td>\n",
       "      <td>0</td>\n",
       "      <td>No</td>\n",
       "      <td>0</td>\n",
       "      <td>Friday</td>\n",
       "    </tr>\n",
       "    <tr>\n",
       "      <th>3</th>\n",
       "      <td>8.679512e+11</td>\n",
       "      <td>5642828</td>\n",
       "      <td>F</td>\n",
       "      <td>2016-04-29</td>\n",
       "      <td>2016-04-29</td>\n",
       "      <td>8</td>\n",
       "      <td>PONTAL DE CAMBURI</td>\n",
       "      <td>0</td>\n",
       "      <td>0</td>\n",
       "      <td>0</td>\n",
       "      <td>0</td>\n",
       "      <td>0</td>\n",
       "      <td>0</td>\n",
       "      <td>No</td>\n",
       "      <td>0</td>\n",
       "      <td>Friday</td>\n",
       "    </tr>\n",
       "    <tr>\n",
       "      <th>4</th>\n",
       "      <td>8.841186e+12</td>\n",
       "      <td>5642494</td>\n",
       "      <td>F</td>\n",
       "      <td>2016-04-29</td>\n",
       "      <td>2016-04-29</td>\n",
       "      <td>56</td>\n",
       "      <td>JARDIM DA PENHA</td>\n",
       "      <td>0</td>\n",
       "      <td>1</td>\n",
       "      <td>1</td>\n",
       "      <td>0</td>\n",
       "      <td>0</td>\n",
       "      <td>0</td>\n",
       "      <td>No</td>\n",
       "      <td>0</td>\n",
       "      <td>Friday</td>\n",
       "    </tr>\n",
       "  </tbody>\n",
       "</table>\n",
       "</div>"
      ],
      "text/plain": [
       "      PatientId  AppointmentID Gender ScheduledDay AppointmentDay  Age  \\\n",
       "0  2.987250e+13        5642903      F   2016-04-29     2016-04-29   62   \n",
       "1  5.589978e+14        5642503      M   2016-04-29     2016-04-29   56   \n",
       "2  4.262962e+12        5642549      F   2016-04-29     2016-04-29   62   \n",
       "3  8.679512e+11        5642828      F   2016-04-29     2016-04-29    8   \n",
       "4  8.841186e+12        5642494      F   2016-04-29     2016-04-29   56   \n",
       "\n",
       "       Neighbourhood  Scholarship  Hipertension  Diabetes  Alcoholism  \\\n",
       "0    JARDIM DA PENHA            0             1         0           0   \n",
       "1    JARDIM DA PENHA            0             0         0           0   \n",
       "2      MATA DA PRAIA            0             0         0           0   \n",
       "3  PONTAL DE CAMBURI            0             0         0           0   \n",
       "4    JARDIM DA PENHA            0             1         1           0   \n",
       "\n",
       "   Handcap  SMS_received No-show  DaysBetween day_of_week  \n",
       "0        0             0      No            0      Friday  \n",
       "1        0             0      No            0      Friday  \n",
       "2        0             0      No            0      Friday  \n",
       "3        0             0      No            0      Friday  \n",
       "4        0             0      No            0      Friday  "
      ]
     },
     "execution_count": 361,
     "metadata": {},
     "output_type": "execute_result"
    }
   ],
   "source": [
    "#date between scheduled and appointment\n",
    "\n",
    "#Drop the time part\n",
    "df['ScheduledDay'] = df['ScheduledDay'].str.slice(start=0, stop=10)\n",
    "df['AppointmentDay'] = df['AppointmentDay'].str.slice(start=0, stop=10)\n",
    "\n",
    "#convert to datetime and subtract to get the days\n",
    "df['ScheduledDay'] = pd.to_datetime(df['ScheduledDay'])\n",
    "df['AppointmentDay'] = pd.to_datetime(df['AppointmentDay'])\n",
    "df['DaysBetween'] = df['AppointmentDay'] - df['ScheduledDay']\n",
    "df['DaysBetween'] = df['DaysBetween'].dt.days\n",
    "\n",
    "df['day_of_week'] = df['AppointmentDay'].dt.weekday_name\n",
    "df.head()\n",
    "#df.tail()\n"
   ]
  },
  {
   "cell_type": "code",
   "execution_count": 362,
   "metadata": {},
   "outputs": [
    {
     "data": {
      "text/plain": [
       "numpy.int64"
      ]
     },
     "execution_count": 362,
     "metadata": {},
     "output_type": "execute_result"
    }
   ],
   "source": [
    "#day of week\n",
    "type(df['DaysBetween'][0])\n",
    "#df['DaysBetween'].max"
   ]
  },
  {
   "cell_type": "code",
   "execution_count": null,
   "metadata": {
    "collapsed": true
   },
   "outputs": [],
   "source": []
  }
 ],
 "metadata": {
  "kernelspec": {
   "display_name": "Python 3",
   "language": "python",
   "name": "python3"
  },
  "language_info": {
   "codemirror_mode": {
    "name": "ipython",
    "version": 3
   },
   "file_extension": ".py",
   "mimetype": "text/x-python",
   "name": "python",
   "nbconvert_exporter": "python",
   "pygments_lexer": "ipython3",
   "version": "3.6.2"
  }
 },
 "nbformat": 4,
 "nbformat_minor": 2
}
